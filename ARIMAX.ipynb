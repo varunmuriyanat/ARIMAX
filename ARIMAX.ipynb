{
 "cells": [
  {
   "cell_type": "markdown",
   "metadata": {},
   "source": [
    "### Reproduced from https://barnesanalytics.com/analyzing-multivariate-time-series-using-arimax-in-python-with-statsmodels"
   ]
  },
  {
   "cell_type": "code",
   "execution_count": 43,
   "metadata": {},
   "outputs": [],
   "source": [
    "import pandas as pd\n",
    "import matplotlib.pyplot as plt\n",
    "import statsmodels.api as sm"
   ]
  },
  {
   "cell_type": "code",
   "execution_count": 44,
   "metadata": {},
   "outputs": [],
   "source": [
    "df=pd.read_csv('salesdata2.csv')"
   ]
  },
  {
   "cell_type": "code",
   "execution_count": 4,
   "metadata": {},
   "outputs": [
    {
     "data": {
      "text/html": [
       "<div>\n",
       "<style scoped>\n",
       "    .dataframe tbody tr th:only-of-type {\n",
       "        vertical-align: middle;\n",
       "    }\n",
       "\n",
       "    .dataframe tbody tr th {\n",
       "        vertical-align: top;\n",
       "    }\n",
       "\n",
       "    .dataframe thead th {\n",
       "        text-align: right;\n",
       "    }\n",
       "</style>\n",
       "<table border=\"1\" class=\"dataframe\">\n",
       "  <thead>\n",
       "    <tr style=\"text-align: right;\">\n",
       "      <th></th>\n",
       "      <th>Month</th>\n",
       "      <th>Marketing</th>\n",
       "      <th>Sales</th>\n",
       "    </tr>\n",
       "  </thead>\n",
       "  <tbody>\n",
       "    <tr>\n",
       "      <th>0</th>\n",
       "      <td>1</td>\n",
       "      <td>107.284347</td>\n",
       "      <td>123.819229</td>\n",
       "    </tr>\n",
       "    <tr>\n",
       "      <th>1</th>\n",
       "      <td>2</td>\n",
       "      <td>214.523447</td>\n",
       "      <td>267.318463</td>\n",
       "    </tr>\n",
       "    <tr>\n",
       "      <th>2</th>\n",
       "      <td>3</td>\n",
       "      <td>327.159934</td>\n",
       "      <td>482.107206</td>\n",
       "    </tr>\n",
       "    <tr>\n",
       "      <th>3</th>\n",
       "      <td>4</td>\n",
       "      <td>437.384597</td>\n",
       "      <td>762.756909</td>\n",
       "    </tr>\n",
       "    <tr>\n",
       "      <th>4</th>\n",
       "      <td>5</td>\n",
       "      <td>518.389038</td>\n",
       "      <td>997.734857</td>\n",
       "    </tr>\n",
       "    <tr>\n",
       "      <th>...</th>\n",
       "      <td>...</td>\n",
       "      <td>...</td>\n",
       "      <td>...</td>\n",
       "    </tr>\n",
       "    <tr>\n",
       "      <th>70</th>\n",
       "      <td>71</td>\n",
       "      <td>7589.918654</td>\n",
       "      <td>8529.339522</td>\n",
       "    </tr>\n",
       "    <tr>\n",
       "      <th>71</th>\n",
       "      <td>72</td>\n",
       "      <td>7771.809813</td>\n",
       "      <td>16866.334206</td>\n",
       "    </tr>\n",
       "    <tr>\n",
       "      <th>72</th>\n",
       "      <td>73</td>\n",
       "      <td>7840.068364</td>\n",
       "      <td>14860.740486</td>\n",
       "    </tr>\n",
       "    <tr>\n",
       "      <th>73</th>\n",
       "      <td>74</td>\n",
       "      <td>8022.535129</td>\n",
       "      <td>13465.360325</td>\n",
       "    </tr>\n",
       "    <tr>\n",
       "      <th>74</th>\n",
       "      <td>75</td>\n",
       "      <td>7809.123841</td>\n",
       "      <td>8801.807069</td>\n",
       "    </tr>\n",
       "  </tbody>\n",
       "</table>\n",
       "<p>75 rows × 3 columns</p>\n",
       "</div>"
      ],
      "text/plain": [
       "    Month    Marketing         Sales\n",
       "0       1   107.284347    123.819229\n",
       "1       2   214.523447    267.318463\n",
       "2       3   327.159934    482.107206\n",
       "3       4   437.384597    762.756909\n",
       "4       5   518.389038    997.734857\n",
       "..    ...          ...           ...\n",
       "70     71  7589.918654   8529.339522\n",
       "71     72  7771.809813  16866.334206\n",
       "72     73  7840.068364  14860.740486\n",
       "73     74  8022.535129  13465.360325\n",
       "74     75  7809.123841   8801.807069\n",
       "\n",
       "[75 rows x 3 columns]"
      ]
     },
     "execution_count": 4,
     "metadata": {},
     "output_type": "execute_result"
    }
   ],
   "source": [
    "df"
   ]
  },
  {
   "cell_type": "code",
   "execution_count": 5,
   "metadata": {},
   "outputs": [
    {
     "data": {
      "image/png": "[encoded data removed]",
      "text/plain": [
       "<Figure size 432x288 with 1 Axes>"
      ]
     },
     "metadata": {
      "needs_background": "light"
     },
     "output_type": "display_data"
    }
   ],
   "source": [
    "df[['Marketing','Sales']].plot()\n",
    "plt.show()"
   ]
  },
  {
   "cell_type": "markdown",
   "metadata": {},
   "source": [
    "With this you can clearly tell that both time-series are trending which is a fairly clear sign that both series have unit roots. \n",
    "We can check whether or not they have unit roots by using the augmented Dickey Fuller (ADF) test."
   ]
  },
  {
   "cell_type": "code",
   "execution_count": 9,
   "metadata": {},
   "outputs": [
    {
     "name": "stdout",
     "output_type": "stream",
     "text": [
      "(0.11973556900175938, 0.9673829869360326, 1, 73, {'1%': -3.5232835753964475, '5%': -2.902030597326081, '10%': -2.5883710883843123}, 788.4679673490132)\n"
     ]
    }
   ],
   "source": [
    "print(sm.tsa.stattools.adfuller(df['Marketing']))"
   ]
  },
  {
   "cell_type": "code",
   "execution_count": 10,
   "metadata": {},
   "outputs": [
    {
     "name": "stdout",
     "output_type": "stream",
     "text": [
      "(-0.3515085974689588, 0.9178857330152571, 11, 63, {'1%': -3.5386953618719676, '5%': -2.9086446751210775, '10%': -2.591896782564878}, 1117.9090016166876)\n"
     ]
    }
   ],
   "source": [
    "print(sm.tsa.stattools.adfuller(df['Sales']))"
   ]
  },
  {
   "cell_type": "markdown",
   "metadata": {},
   "source": [
    "Clearly we can not reject the null-hypothesis that these series have a unit root. So we should difference both series as a first step."
   ]
  },
  {
   "cell_type": "markdown",
   "metadata": {},
   "source": [
    "But let’s just run a naive regression to see what happens on the undifferenced time-series, and then again on the differenced time-series, here’s the code for the first regression."
   ]
  },
  {
   "cell_type": "code",
   "execution_count": 22,
   "metadata": {},
   "outputs": [
    {
     "name": "stdout",
     "output_type": "stream",
     "text": [
      "                                 OLS Regression Results                                \n",
      "=======================================================================================\n",
      "Dep. Variable:                  Sales   R-squared (uncentered):                   0.954\n",
      "Model:                            OLS   Adj. R-squared (uncentered):              0.954\n",
      "Method:                 Least Squares   F-statistic:                              1543.\n",
      "Date:                Thu, 12 Nov 2020   Prob (F-statistic):                    2.57e-51\n",
      "Time:                        07:46:05   Log-Likelihood:                         -662.12\n",
      "No. Observations:                  75   AIC:                                      1326.\n",
      "Df Residuals:                      74   BIC:                                      1329.\n",
      "Df Model:                           1                                                  \n",
      "Covariance Type:            nonrobust                                                  \n",
      "==============================================================================\n",
      "                 coef    std err          t      P>|t|      [0.025      0.975]\n",
      "------------------------------------------------------------------------------\n",
      "Marketing      1.6480      0.042     39.287      0.000       1.564       1.732\n",
      "==============================================================================\n",
      "Omnibus:                        0.650   Durbin-Watson:                   1.602\n",
      "Prob(Omnibus):                  0.723   Jarque-Bera (JB):                0.214\n",
      "Skew:                          -0.065   Prob(JB):                        0.899\n",
      "Kurtosis:                       3.227   Cond. No.                         1.00\n",
      "==============================================================================\n",
      "\n",
      "Warnings:\n",
      "[1] Standard Errors assume that the covariance matrix of the errors is correctly specified.\n"
     ]
    }
   ],
   "source": [
    "model0=sm.OLS(endog=df['Sales'],exog=df[['Marketing']])\n",
    "results0=model0.fit()\n",
    "print(results0.summary())"
   ]
  },
  {
   "cell_type": "code",
   "execution_count": 12,
   "metadata": {},
   "outputs": [],
   "source": []
  },
  {
   "cell_type": "code",
   "execution_count": 23,
   "metadata": {},
   "outputs": [
    {
     "name": "stdout",
     "output_type": "stream",
     "text": [
      "                            OLS Regression Results                            \n",
      "==============================================================================\n",
      "Dep. Variable:                  Sales   R-squared:                       0.847\n",
      "Model:                            OLS   Adj. R-squared:                  0.845\n",
      "Method:                 Least Squares   F-statistic:                     403.9\n",
      "Date:                Thu, 12 Nov 2020   Prob (F-statistic):           1.79e-31\n",
      "Time:                        07:46:57   Log-Likelihood:                -661.83\n",
      "No. Observations:                  75   AIC:                             1328.\n",
      "Df Residuals:                      73   BIC:                             1332.\n",
      "Df Model:                           1                                         \n",
      "Covariance Type:            nonrobust                                         \n",
      "==============================================================================\n",
      "                 coef    std err          t      P>|t|      [0.025      0.975]\n",
      "------------------------------------------------------------------------------\n",
      "Marketing      1.7029      0.085     20.096      0.000       1.534       1.872\n",
      "const       -289.3678    387.756     -0.746      0.458   -1062.165     483.429\n",
      "==============================================================================\n",
      "Omnibus:                        2.058   Durbin-Watson:                   1.614\n",
      "Prob(Omnibus):                  0.357   Jarque-Bera (JB):                1.388\n",
      "Skew:                          -0.289   Prob(JB):                        0.500\n",
      "Kurtosis:                       3.331   Cond. No.                     9.22e+03\n",
      "==============================================================================\n",
      "\n",
      "Warnings:\n",
      "[1] Standard Errors assume that the covariance matrix of the errors is correctly specified.\n",
      "[2] The condition number is large, 9.22e+03. This might indicate that there are\n",
      "strong multicollinearity or other numerical problems.\n"
     ]
    }
   ],
   "source": [
    "df['const']=1\n",
    "model1=sm.OLS(endog=df['Sales'],exog=df[['Marketing','const']])\n",
    "results1=model1.fit()\n",
    "print(results1.summary())"
   ]
  },
  {
   "cell_type": "code",
   "execution_count": null,
   "metadata": {},
   "outputs": [],
   "source": []
  },
  {
   "cell_type": "markdown",
   "metadata": {},
   "source": [
    "here is the code for a differenced time-series regression."
   ]
  },
  {
   "cell_type": "code",
   "execution_count": 24,
   "metadata": {},
   "outputs": [
    {
     "name": "stdout",
     "output_type": "stream",
     "text": [
      "                            OLS Regression Results                            \n",
      "==============================================================================\n",
      "Dep. Variable:                  Sales   R-squared:                       0.847\n",
      "Model:                            OLS   Adj. R-squared:                  0.845\n",
      "Method:                 Least Squares   F-statistic:                     403.9\n",
      "Date:                Thu, 12 Nov 2020   Prob (F-statistic):           1.79e-31\n",
      "Time:                        07:48:25   Log-Likelihood:                -661.83\n",
      "No. Observations:                  75   AIC:                             1328.\n",
      "Df Residuals:                      73   BIC:                             1332.\n",
      "Df Model:                           1                                         \n",
      "Covariance Type:            nonrobust                                         \n",
      "==============================================================================\n",
      "                 coef    std err          t      P>|t|      [0.025      0.975]\n",
      "------------------------------------------------------------------------------\n",
      "Marketing      1.7029      0.085     20.096      0.000       1.534       1.872\n",
      "const       -289.3678    387.756     -0.746      0.458   -1062.165     483.429\n",
      "==============================================================================\n",
      "Omnibus:                        2.058   Durbin-Watson:                   1.614\n",
      "Prob(Omnibus):                  0.357   Jarque-Bera (JB):                1.388\n",
      "Skew:                          -0.289   Prob(JB):                        0.500\n",
      "Kurtosis:                       3.331   Cond. No.                     9.22e+03\n",
      "==============================================================================\n",
      "\n",
      "Warnings:\n",
      "[1] Standard Errors assume that the covariance matrix of the errors is correctly specified.\n",
      "[2] The condition number is large, 9.22e+03. This might indicate that there are\n",
      "strong multicollinearity or other numerical problems.\n"
     ]
    }
   ],
   "source": [
    "df['diffS']=df['Sales'].diff()\n",
    "df['diffM']=df['Marketing'].diff()\n",
    "model2=sm.OLS(endog=df['diffS'].dropna(),exog=df[['diffM','const']].dropna())\n",
    "results2=model1.fit()\n",
    "print(results2.summary())"
   ]
  },
  {
   "cell_type": "code",
   "execution_count": null,
   "metadata": {},
   "outputs": [],
   "source": []
  },
  {
   "cell_type": "code",
   "execution_count": 25,
   "metadata": {},
   "outputs": [
    {
     "data": {
      "text/plain": [
       "0       123.819229\n",
       "1       267.318463\n",
       "2       482.107206\n",
       "3       762.756909\n",
       "4       997.734857\n",
       "          ...     \n",
       "70     8529.339522\n",
       "71    16866.334206\n",
       "72    14860.740486\n",
       "73    13465.360325\n",
       "74     8801.807069\n",
       "Name: Sales, Length: 75, dtype: float64"
      ]
     },
     "execution_count": 25,
     "metadata": {},
     "output_type": "execute_result"
    }
   ],
   "source": [
    "df[\"Sales\"]"
   ]
  },
  {
   "cell_type": "code",
   "execution_count": 26,
   "metadata": {},
   "outputs": [
    {
     "data": {
      "text/plain": [
       "0             NaN\n",
       "1      143.499234\n",
       "2      214.788743\n",
       "3      280.649703\n",
       "4      234.977948\n",
       "         ...     \n",
       "70   -6638.392258\n",
       "71    8336.994684\n",
       "72   -2005.593720\n",
       "73   -1395.380160\n",
       "74   -4663.553256\n",
       "Name: Sales, Length: 75, dtype: float64"
      ]
     },
     "execution_count": 26,
     "metadata": {},
     "output_type": "execute_result"
    }
   ],
   "source": [
    "df[\"Sales\"].diff()"
   ]
  },
  {
   "cell_type": "code",
   "execution_count": 27,
   "metadata": {},
   "outputs": [
    {
     "data": {
      "text/plain": [
       "143.499234"
      ]
     },
     "execution_count": 27,
     "metadata": {},
     "output_type": "execute_result"
    }
   ],
   "source": [
    "267.318463 - 123.819229"
   ]
  },
  {
   "cell_type": "raw",
   "metadata": {},
   "source": [
    "Clearly, there is a difference between these two models. One is just plain wrong. Well, let’s think about this logically for a moment. We get a better fit with the first regression, but when we think about what is going on here, we can remember that both time series are trending. There is a third variable in the mix. Essentially, time is correlated to both my input and output. What happens is that we get a very significant, and wrong, estimate because our coefficient is the ratio of the trends, not the effect that X has on Y. That’s why we get the multicollinearity warning too. Uh-oh, that must mean that the first is wrong, and the second is right. But there isn’t anything significant in the second, we can’t say anything.\n",
    "\n",
    "Well, what if we didn’t difference marketing, but we did difference sales? Well, that leads to a consistency problem, we have a series without the unit-root regressed on a series with a unit-root, and that causes the problems with error terms that have to have a trend."
   ]
  },
  {
   "cell_type": "code",
   "execution_count": null,
   "metadata": {},
   "outputs": [],
   "source": []
  },
  {
   "cell_type": "raw",
   "metadata": {},
   "source": [
    "How is it that I know that Marketing is driving sales and not vice-versa.\n",
    "\n",
    "That’s what a granger-causality test is for. The test is whether the first variable is caused by the second variable."
   ]
  },
  {
   "cell_type": "code",
   "execution_count": 29,
   "metadata": {},
   "outputs": [
    {
     "name": "stdout",
     "output_type": "stream",
     "text": [
      "\n",
      "Granger Causality\n",
      "number of lags (no zero) 1\n",
      "ssr based F test:         F=33.4561 , p=0.0000  , df_denom=71, df_num=1\n",
      "ssr based chi2 test:   chi2=34.8698 , p=0.0000  , df=1\n",
      "likelihood ratio test: chi2=28.5705 , p=0.0000  , df=1\n",
      "parameter F test:         F=33.4561 , p=0.0000  , df_denom=71, df_num=1\n",
      "{1: ({'ssr_ftest': (33.456140995943535, 1.810036714936035e-07, 71.0, 1), 'ssr_chi2test': (34.869780756335516, 3.525098908631768e-09, 1), 'lrtest': (28.570467812774496, 9.034970552654862e-08, 1), 'params_ftest': (33.45614099594401, 1.8100367149357443e-07, 71.0, 1.0)}, [<statsmodels.regression.linear_model.RegressionResultsWrapper object at 0x7f4be80a8d00>, <statsmodels.regression.linear_model.RegressionResultsWrapper object at 0x7f4be80a8c10>, array([[0., 1., 0.]])])}\n"
     ]
    }
   ],
   "source": [
    "print(sm.tsa.stattools.grangercausalitytests(df[['Sales','Marketing']].dropna(),1))"
   ]
  },
  {
   "cell_type": "raw",
   "metadata": {},
   "source": [
    "You can also see by reversing the test that Sales does not cause Marketing:"
   ]
  },
  {
   "cell_type": "code",
   "execution_count": 30,
   "metadata": {},
   "outputs": [
    {
     "name": "stdout",
     "output_type": "stream",
     "text": [
      "\n",
      "Granger Causality\n",
      "number of lags (no zero) 1\n",
      "ssr based F test:         F=0.3057  , p=0.5821  , df_denom=71, df_num=1\n",
      "ssr based chi2 test:   chi2=0.3186  , p=0.5724  , df=1\n",
      "likelihood ratio test: chi2=0.3179  , p=0.5729  , df=1\n",
      "parameter F test:         F=0.3057  , p=0.5821  , df_denom=71, df_num=1\n",
      "{1: ({'ssr_ftest': (0.3056924545283709, 0.5820722496888391, 71.0, 1), 'ssr_chi2test': (0.31860903711407673, 0.5724447641509418, 1), 'lrtest': (0.3179251095340305, 0.5728572543074806, 1), 'params_ftest': (0.30569245452808014, 0.5820722496890105, 71.0, 1.0)}, [<statsmodels.regression.linear_model.RegressionResultsWrapper object at 0x7f4bf91749a0>, <statsmodels.regression.linear_model.RegressionResultsWrapper object at 0x7f4be80a6700>, array([[0., 1., 0.]])])}\n"
     ]
    }
   ],
   "source": [
    "print(sm.tsa.stattools.grangercausalitytests(df[['Marketing','Sales']].dropna(),1))"
   ]
  },
  {
   "cell_type": "code",
   "execution_count": null,
   "metadata": {},
   "outputs": [],
   "source": []
  },
  {
   "cell_type": "markdown",
   "metadata": {},
   "source": [
    "### here is the full blown code for the correct ARIMAX model. "
   ]
  },
  {
   "cell_type": "code",
   "execution_count": 45,
   "metadata": {},
   "outputs": [
    {
     "name": "stdout",
     "output_type": "stream",
     "text": [
      "                             ARIMA Model Results                              \n",
      "==============================================================================\n",
      "Dep. Variable:                D.Sales   No. Observations:                   72\n",
      "Model:                 ARIMA(1, 1, 0)   Log Likelihood                -647.768\n",
      "Method:                       css-mle   S.D. of innovations           1951.172\n",
      "Date:                Thu, 12 Nov 2020   AIC                           1303.535\n",
      "Time:                        08:13:43   BIC                           1312.642\n",
      "Sample:                             1   HQIC                          1307.161\n",
      "                                                                              \n",
      "=================================================================================\n",
      "                    coef    std err          z      P>|z|      [0.025      0.975]\n",
      "---------------------------------------------------------------------------------\n",
      "const           454.3043    266.811      1.703      0.089     -68.636     977.245\n",
      "lag              -2.9454      1.977     -1.490      0.136      -6.821       0.930\n",
      "ar.L1.D.Sales    -0.4596      0.113     -4.063      0.000      -0.681      -0.238\n",
      "                                    Roots                                    \n",
      "=============================================================================\n",
      "                  Real          Imaginary           Modulus         Frequency\n",
      "-----------------------------------------------------------------------------\n",
      "AR.1           -2.1758           +0.0000j            2.1758            0.5000\n",
      "-----------------------------------------------------------------------------\n"
     ]
    },
    {
     "name": "stderr",
     "output_type": "stream",
     "text": [
      "/home/varunmuriyanat/.local/lib/python3.8/site-packages/statsmodels/tsa/base/tsa_model.py:213: ValueWarning: An unsupported index was provided and will be ignored when e.g. forecasting.\n",
      "  warnings.warn('An unsupported index was provided and will be'\n",
      "/home/varunmuriyanat/.local/lib/python3.8/site-packages/statsmodels/tsa/base/tsa_model.py:213: ValueWarning: An unsupported index was provided and will be ignored when e.g. forecasting.\n",
      "  warnings.warn('An unsupported index was provided and will be'\n"
     ]
    }
   ],
   "source": [
    "df=pd.read_csv('salesdata2.csv')\n",
    "df['diffM'] = df[\"Marketing\"].diff()\n",
    "df['lag']=df['diffM'].shift()\n",
    "\n",
    "df.dropna(inplace=True)\n",
    "\n",
    "model3=sm.tsa.ARIMA(endog=df['Sales'], exog=df[['lag']], order=[1,1,0])\n",
    "\n",
    "results3=model3.fit()\n",
    "\n",
    "print(results3.summary())"
   ]
  },
  {
   "cell_type": "code",
   "execution_count": null,
   "metadata": {},
   "outputs": [],
   "source": []
  },
  {
   "cell_type": "code",
   "execution_count": 41,
   "metadata": {},
   "outputs": [
    {
     "data": {
      "text/html": [
       "<div>\n",
       "<style scoped>\n",
       "    .dataframe tbody tr th:only-of-type {\n",
       "        vertical-align: middle;\n",
       "    }\n",
       "\n",
       "    .dataframe tbody tr th {\n",
       "        vertical-align: top;\n",
       "    }\n",
       "\n",
       "    .dataframe thead th {\n",
       "        text-align: right;\n",
       "    }\n",
       "</style>\n",
       "<table border=\"1\" class=\"dataframe\">\n",
       "  <thead>\n",
       "    <tr style=\"text-align: right;\">\n",
       "      <th></th>\n",
       "      <th>Marketing</th>\n",
       "      <th>diffM</th>\n",
       "      <th>diffM_shift</th>\n",
       "    </tr>\n",
       "  </thead>\n",
       "  <tbody>\n",
       "    <tr>\n",
       "      <th>3</th>\n",
       "      <td>437.384597</td>\n",
       "      <td>NaN</td>\n",
       "      <td>NaN</td>\n",
       "    </tr>\n",
       "    <tr>\n",
       "      <th>4</th>\n",
       "      <td>518.389038</td>\n",
       "      <td>81.004442</td>\n",
       "      <td>NaN</td>\n",
       "    </tr>\n",
       "    <tr>\n",
       "      <th>5</th>\n",
       "      <td>657.617312</td>\n",
       "      <td>139.228274</td>\n",
       "      <td>81.004442</td>\n",
       "    </tr>\n",
       "    <tr>\n",
       "      <th>6</th>\n",
       "      <td>727.253623</td>\n",
       "      <td>69.636311</td>\n",
       "      <td>139.228274</td>\n",
       "    </tr>\n",
       "    <tr>\n",
       "      <th>7</th>\n",
       "      <td>847.472727</td>\n",
       "      <td>120.219104</td>\n",
       "      <td>69.636311</td>\n",
       "    </tr>\n",
       "    <tr>\n",
       "      <th>...</th>\n",
       "      <td>...</td>\n",
       "      <td>...</td>\n",
       "      <td>...</td>\n",
       "    </tr>\n",
       "    <tr>\n",
       "      <th>70</th>\n",
       "      <td>7589.918654</td>\n",
       "      <td>368.549327</td>\n",
       "      <td>-99.106655</td>\n",
       "    </tr>\n",
       "    <tr>\n",
       "      <th>71</th>\n",
       "      <td>7771.809813</td>\n",
       "      <td>181.891159</td>\n",
       "      <td>368.549327</td>\n",
       "    </tr>\n",
       "    <tr>\n",
       "      <th>72</th>\n",
       "      <td>7840.068364</td>\n",
       "      <td>68.258551</td>\n",
       "      <td>181.891159</td>\n",
       "    </tr>\n",
       "    <tr>\n",
       "      <th>73</th>\n",
       "      <td>8022.535129</td>\n",
       "      <td>182.466765</td>\n",
       "      <td>68.258551</td>\n",
       "    </tr>\n",
       "    <tr>\n",
       "      <th>74</th>\n",
       "      <td>7809.123841</td>\n",
       "      <td>-213.411288</td>\n",
       "      <td>182.466765</td>\n",
       "    </tr>\n",
       "  </tbody>\n",
       "</table>\n",
       "<p>72 rows × 3 columns</p>\n",
       "</div>"
      ],
      "text/plain": [
       "      Marketing       diffM  diffM_shift\n",
       "3    437.384597         NaN          NaN\n",
       "4    518.389038   81.004442          NaN\n",
       "5    657.617312  139.228274    81.004442\n",
       "6    727.253623   69.636311   139.228274\n",
       "7    847.472727  120.219104    69.636311\n",
       "..          ...         ...          ...\n",
       "70  7589.918654  368.549327   -99.106655\n",
       "71  7771.809813  181.891159   368.549327\n",
       "72  7840.068364   68.258551   181.891159\n",
       "73  8022.535129  182.466765    68.258551\n",
       "74  7809.123841 -213.411288   182.466765\n",
       "\n",
       "[72 rows x 3 columns]"
      ]
     },
     "execution_count": 41,
     "metadata": {},
     "output_type": "execute_result"
    }
   ],
   "source": [
    "pd.DataFrame({\"Marketing\": df[\"Marketing\"],              \n",
    "              \"diffM\": df[\"Marketing\"].diff(),\n",
    "              \"diffM_shift\": df['Marketing'].diff().shift()\n",
    "              })"
   ]
  },
  {
   "cell_type": "code",
   "execution_count": 42,
   "metadata": {},
   "outputs": [
    {
     "data": {
      "text/plain": [
       "81.00444100000004"
      ]
     },
     "execution_count": 42,
     "metadata": {},
     "output_type": "execute_result"
    }
   ],
   "source": [
    "518.389038 - 437.384597"
   ]
  },
  {
   "cell_type": "code",
   "execution_count": null,
   "metadata": {},
   "outputs": [],
   "source": []
  },
  {
   "cell_type": "code",
   "execution_count": null,
   "metadata": {},
   "outputs": [],
   "source": []
  },
  {
   "cell_type": "code",
   "execution_count": null,
   "metadata": {},
   "outputs": [],
   "source": []
  },
  {
   "cell_type": "code",
   "execution_count": null,
   "metadata": {},
   "outputs": [],
   "source": []
  },
  {
   "cell_type": "code",
   "execution_count": null,
   "metadata": {},
   "outputs": [],
   "source": []
  },
  {
   "cell_type": "code",
   "execution_count": null,
   "metadata": {},
   "outputs": [],
   "source": []
  },
  {
   "cell_type": "code",
   "execution_count": null,
   "metadata": {},
   "outputs": [],
   "source": []
  },
  {
   "cell_type": "raw",
   "metadata": {},
   "source": [
    "sm.OLS?"
   ]
  },
  {
   "cell_type": "raw",
   "metadata": {},
   "source": [
    "Init signature: sm.OLS(endog, exog=None, missing='none', hasconst=None, **kwargs)\n",
    "Docstring:     \n",
    "Ordinary Least Squares\n",
    "\n",
    "Parameters\n",
    "----------\n",
    "endog : array_like\n",
    "    A 1-d endogenous response variable. The dependent variable.\n",
    "exog : array_like\n",
    "    A nobs x k array where `nobs` is the number of observations and `k`\n",
    "    is the number of regressors. An intercept is not included by default\n",
    "    and should be added by the user. See\n",
    "    :func:`statsmodels.tools.add_constant`.\n",
    "missing : str\n",
    "    Available options are 'none', 'drop', and 'raise'. If 'none', no nan\n",
    "    checking is done. If 'drop', any observations with nans are dropped.\n",
    "    If 'raise', an error is raised. Default is 'none'.\n",
    "hasconst : None or bool\n",
    "    Indicates whether the RHS includes a user-supplied constant. If True,\n",
    "    a constant is not checked for and k_constant is set to 1 and all\n",
    "    result statistics are calculated as if a constant is present. If\n",
    "    False, a constant is not checked for and k_constant is set to 0.\n",
    "**kwargs\n",
    "    Extra arguments that are used to set model properties when using the\n",
    "    formula interface.\n",
    "\n",
    "Attributes\n",
    "----------\n",
    "weights : scalar\n",
    "    Has an attribute weights = array(1.0) due to inheritance from WLS.\n",
    "\n",
    "See Also\n",
    "--------\n",
    "WLS : Fit a linear model using Weighted Least Squares.\n",
    "GLS : Fit a linear model using Generalized Least Squares.\n",
    "\n",
    "Notes\n",
    "-----\n",
    "No constant is added by the model unless you are using formulas.\n",
    "\n",
    "Examples\n",
    "--------\n",
    ">>> import statsmodels.api as sm\n",
    ">>> Y = [1,3,4,5,2,3,4]\n",
    ">>> X = range(1,8)\n",
    ">>> X = sm.add_constant(X)\n",
    ">>> model = sm.OLS(Y,X)\n",
    ">>> results = model.fit()\n",
    ">>> results.params\n",
    "array([ 2.14285714,  0.25      ])\n",
    "\n",
    ">>> results.tvalues\n",
    "array([ 1.87867287,  0.98019606])\n",
    "\n",
    ">>> print(results.t_test([1, 0]))\n",
    "<T test: effect=array([ 2.14285714]), sd=array([[ 1.14062282]]), t=array([[ 1.87867287]]), p=array([[ 0.05953974]]), df_denom=5>\n",
    ">>> print(results.f_test(np.identity(2)))\n",
    "<F test: F=array([[ 19.46078431]]), p=[[ 0.00437251]], df_denom=5, df_num=2>\n",
    "File:           ~/.local/lib/python3.8/site-packages/statsmodels/regression/linear_model.py\n",
    "Type:           type\n",
    "Subclasses:     "
   ]
  },
  {
   "cell_type": "code",
   "execution_count": null,
   "metadata": {},
   "outputs": [],
   "source": []
  }
 ],
 "metadata": {
  "kernelspec": {
   "display_name": "Python 3",
   "language": "python",
   "name": "python3"
  },
  "language_info": {
   "codemirror_mode": {
    "name": "ipython",
    "version": 3
   },
   "file_extension": ".py",
   "mimetype": "text/x-python",
   "name": "python",
   "nbconvert_exporter": "python",
   "pygments_lexer": "ipython3",
   "version": "3.8.5"
  }
 },
 "nbformat": 4,
 "nbformat_minor": 4
}
